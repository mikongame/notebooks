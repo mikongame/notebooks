{
 "cells": [
  {
   "cell_type": "markdown",
   "metadata": {
    "toc": true
   },
   "source": [
    "<h1>Table of Contents<span class=\"tocSkip\"></span></h1>\n",
    "<div class=\"toc\"><ul class=\"toc-item\"><li><span><a href=\"#Data-Calculations\" data-toc-modified-id=\"Data-Calculations-1\"><span class=\"toc-item-num\">1&nbsp;&nbsp;</span>Data Calculations</a></span><ul class=\"toc-item\"><li><span><a href=\"#Working-with-constants\" data-toc-modified-id=\"Working-with-constants-1.1\"><span class=\"toc-item-num\">1.1&nbsp;&nbsp;</span>Working with constants</a></span></li><li><span><a href=\"#Combining-two-or-more-columns\" data-toc-modified-id=\"Combining-two-or-more-columns-1.2\"><span class=\"toc-item-num\">1.2&nbsp;&nbsp;</span>Combining two or more columns</a></span></li><li><span><a href=\"#Conditional\" data-toc-modified-id=\"Conditional-1.3\"><span class=\"toc-item-num\">1.3&nbsp;&nbsp;</span>Conditional assignment</a></span></li><li><span><a href=\"#Calculations-Using-Functions\" data-toc-modified-id=\"Calculations-Using-Functions-1.4\"><span class=\"toc-item-num\">1.4&nbsp;&nbsp;</span>Calculations Using Functions</a></span></li></ul></li><li><span><a href=\"#Data-Aggregation-&amp;-Summarization\" data-toc-modified-id=\"Data-Aggregation-&amp;-Summarization-2\"><span class=\"toc-item-num\">2&nbsp;&nbsp;</span>Data Aggregation &amp; Summarization</a></span><ul class=\"toc-item\"><li><span><a href=\"#Grouping\" data-toc-modified-id=\"Grouping-2.1\"><span class=\"toc-item-num\">2.1&nbsp;&nbsp;</span>Grouping</a></span></li><li><span><a href=\"#Aggregations\" data-toc-modified-id=\"Aggregations-2.2\"><span class=\"toc-item-num\">2.2&nbsp;&nbsp;</span>Aggregations</a></span></li><li><span><a href=\"#Aggregations\" data-toc-modified-id=\"Aggregations-2.3\"><span class=\"toc-item-num\">2.3&nbsp;&nbsp;</span>Aggregations</a></span></li></ul></li></ul></div>"
   ]
  },
  {
   "cell_type": "markdown",
   "metadata": {
    "ExecuteTime": {
     "end_time": "2019-07-13T09:38:12.736681Z",
     "start_time": "2019-07-13T09:38:12.733468Z"
    }
   },
   "source": [
    "# Data Calculations"
   ]
  },
  {
   "cell_type": "markdown",
   "metadata": {},
   "source": [
    "## Working with constants"
   ]
  },
  {
   "cell_type": "markdown",
   "metadata": {},
   "source": [
    "We load the dataset animals (we have worked with it before)"
   ]
  },
  {
   "cell_type": "code",
   "execution_count": 5,
   "metadata": {
    "ExecuteTime": {
     "end_time": "2019-07-19T19:33:02.339669Z",
     "start_time": "2019-07-19T19:33:01.831186Z"
    }
   },
   "outputs": [],
   "source": [
    "import numpy as np\n",
    "import pandas as pd\n",
    "from scipy import stats"
   ]
  },
  {
   "cell_type": "code",
   "execution_count": 6,
   "metadata": {
    "ExecuteTime": {
     "end_time": "2019-07-19T19:33:02.349792Z",
     "start_time": "2019-07-19T19:33:02.341719Z"
    }
   },
   "outputs": [],
   "source": [
    "animals = pd.read_csv('animals.csv')"
   ]
  },
  {
   "cell_type": "code",
   "execution_count": 7,
   "metadata": {},
   "outputs": [
    {
     "data": {
      "text/html": [
       "<div>\n",
       "<style scoped>\n",
       "    .dataframe tbody tr th:only-of-type {\n",
       "        vertical-align: middle;\n",
       "    }\n",
       "\n",
       "    .dataframe tbody tr th {\n",
       "        vertical-align: top;\n",
       "    }\n",
       "\n",
       "    .dataframe thead th {\n",
       "        text-align: right;\n",
       "    }\n",
       "</style>\n",
       "<table border=\"1\" class=\"dataframe\">\n",
       "  <thead>\n",
       "    <tr style=\"text-align: right;\">\n",
       "      <th></th>\n",
       "      <th>brainwt</th>\n",
       "      <th>bodywt</th>\n",
       "      <th>animal</th>\n",
       "    </tr>\n",
       "  </thead>\n",
       "  <tbody>\n",
       "    <tr>\n",
       "      <th>0</th>\n",
       "      <td>3.385</td>\n",
       "      <td>44.500</td>\n",
       "      <td>Arctic_fox</td>\n",
       "    </tr>\n",
       "    <tr>\n",
       "      <th>1</th>\n",
       "      <td>0.480</td>\n",
       "      <td>15.499</td>\n",
       "      <td>Owl_monkey</td>\n",
       "    </tr>\n",
       "    <tr>\n",
       "      <th>2</th>\n",
       "      <td>1.350</td>\n",
       "      <td>8.100</td>\n",
       "      <td>Beaver</td>\n",
       "    </tr>\n",
       "    <tr>\n",
       "      <th>3</th>\n",
       "      <td>464.983</td>\n",
       "      <td>423.012</td>\n",
       "      <td>Cow</td>\n",
       "    </tr>\n",
       "    <tr>\n",
       "      <th>4</th>\n",
       "      <td>36.328</td>\n",
       "      <td>119.498</td>\n",
       "      <td>Gray_wolf</td>\n",
       "    </tr>\n",
       "  </tbody>\n",
       "</table>\n",
       "</div>"
      ],
      "text/plain": [
       "   brainwt   bodywt      animal\n",
       "0    3.385   44.500  Arctic_fox\n",
       "1    0.480   15.499  Owl_monkey\n",
       "2    1.350    8.100      Beaver\n",
       "3  464.983  423.012         Cow\n",
       "4   36.328  119.498   Gray_wolf"
      ]
     },
     "execution_count": 7,
     "metadata": {},
     "output_type": "execute_result"
    }
   ],
   "source": [
    "animals.head()"
   ]
  },
  {
   "cell_type": "markdown",
   "metadata": {},
   "source": [
    "We will use this dataset and create a new column that converts the body weight in pounds to kilograms (1 pound = 0.45359237)."
   ]
  },
  {
   "cell_type": "code",
   "execution_count": 8,
   "metadata": {
    "ExecuteTime": {
     "end_time": "2019-07-19T19:33:02.363730Z",
     "start_time": "2019-07-19T19:33:02.351780Z"
    }
   },
   "outputs": [
    {
     "data": {
      "text/plain": [
       "0      20.184860\n",
       "1       7.030228\n",
       "2       3.674098\n",
       "3     191.875016\n",
       "4      54.203381\n",
       "         ...    \n",
       "57     76.657111\n",
       "58      1.179340\n",
       "59      5.170953\n",
       "60      1.133981\n",
       "61     22.861055\n",
       "Name: bodywt, Length: 62, dtype: float64"
      ]
     },
     "execution_count": 8,
     "metadata": {},
     "output_type": "execute_result"
    }
   ],
   "source": [
    "# your code\n",
    "animals.bodywt * 0.45359237"
   ]
  },
  {
   "cell_type": "markdown",
   "metadata": {},
   "source": [
    "## Combining two or more columns"
   ]
  },
  {
   "cell_type": "markdown",
   "metadata": {
    "ExecuteTime": {
     "end_time": "2019-07-19T16:36:22.814745Z",
     "start_time": "2019-07-19T16:36:22.810154Z"
    }
   },
   "source": [
    "For example, we can compute the ratio of body weight to brain weight for all animals in our data and assign this value to a new column.\n",
    "\n",
    "\n"
   ]
  },
  {
   "cell_type": "code",
   "execution_count": 9,
   "metadata": {
    "ExecuteTime": {
     "end_time": "2019-07-19T19:33:02.384178Z",
     "start_time": "2019-07-19T19:33:02.370703Z"
    }
   },
   "outputs": [
    {
     "data": {
      "text/plain": [
       "0     0.076067\n",
       "1     0.030970\n",
       "2     0.166667\n",
       "3     1.099219\n",
       "4     0.304005\n",
       "        ...   \n",
       "57    0.946769\n",
       "58    0.346154\n",
       "59    0.142105\n",
       "60    0.041600\n",
       "61    0.084028\n",
       "Length: 62, dtype: float64"
      ]
     },
     "execution_count": 9,
     "metadata": {},
     "output_type": "execute_result"
    }
   ],
   "source": [
    "# your code\n",
    "animals.brainwt / animals.bodywt"
   ]
  },
  {
   "cell_type": "code",
   "execution_count": 11,
   "metadata": {},
   "outputs": [
    {
     "data": {
      "text/html": [
       "<div>\n",
       "<style scoped>\n",
       "    .dataframe tbody tr th:only-of-type {\n",
       "        vertical-align: middle;\n",
       "    }\n",
       "\n",
       "    .dataframe tbody tr th {\n",
       "        vertical-align: top;\n",
       "    }\n",
       "\n",
       "    .dataframe thead th {\n",
       "        text-align: right;\n",
       "    }\n",
       "</style>\n",
       "<table border=\"1\" class=\"dataframe\">\n",
       "  <thead>\n",
       "    <tr style=\"text-align: right;\">\n",
       "      <th></th>\n",
       "      <th>brainwt</th>\n",
       "      <th>bodywt</th>\n",
       "      <th>animal</th>\n",
       "      <th>peso_en_kg</th>\n",
       "      <th>ratio</th>\n",
       "    </tr>\n",
       "  </thead>\n",
       "  <tbody>\n",
       "    <tr>\n",
       "      <th>0</th>\n",
       "      <td>3.385</td>\n",
       "      <td>44.500</td>\n",
       "      <td>Arctic_fox</td>\n",
       "      <td>20.184860</td>\n",
       "      <td>0.076067</td>\n",
       "    </tr>\n",
       "    <tr>\n",
       "      <th>1</th>\n",
       "      <td>0.480</td>\n",
       "      <td>15.499</td>\n",
       "      <td>Owl_monkey</td>\n",
       "      <td>7.030228</td>\n",
       "      <td>0.030970</td>\n",
       "    </tr>\n",
       "    <tr>\n",
       "      <th>2</th>\n",
       "      <td>1.350</td>\n",
       "      <td>8.100</td>\n",
       "      <td>Beaver</td>\n",
       "      <td>3.674098</td>\n",
       "      <td>0.166667</td>\n",
       "    </tr>\n",
       "    <tr>\n",
       "      <th>3</th>\n",
       "      <td>464.983</td>\n",
       "      <td>423.012</td>\n",
       "      <td>Cow</td>\n",
       "      <td>191.875016</td>\n",
       "      <td>1.099219</td>\n",
       "    </tr>\n",
       "    <tr>\n",
       "      <th>4</th>\n",
       "      <td>36.328</td>\n",
       "      <td>119.498</td>\n",
       "      <td>Gray_wolf</td>\n",
       "      <td>54.203381</td>\n",
       "      <td>0.304005</td>\n",
       "    </tr>\n",
       "  </tbody>\n",
       "</table>\n",
       "</div>"
      ],
      "text/plain": [
       "   brainwt   bodywt      animal  peso_en_kg     ratio\n",
       "0    3.385   44.500  Arctic_fox   20.184860  0.076067\n",
       "1    0.480   15.499  Owl_monkey    7.030228  0.030970\n",
       "2    1.350    8.100      Beaver    3.674098  0.166667\n",
       "3  464.983  423.012         Cow  191.875016  1.099219\n",
       "4   36.328  119.498   Gray_wolf   54.203381  0.304005"
      ]
     },
     "execution_count": 11,
     "metadata": {},
     "output_type": "execute_result"
    }
   ],
   "source": [
    "animals = animals.assign(peso_en_kg=animals.bodywt * 0.45359237, ratio=animals.brainwt / animals.bodywt )\n",
    "animals.head()"
   ]
  },
  {
   "cell_type": "markdown",
   "metadata": {},
   "source": [
    "## Conditional assignment"
   ]
  },
  {
   "cell_type": "code",
   "execution_count": 12,
   "metadata": {
    "ExecuteTime": {
     "end_time": "2019-07-19T19:33:02.397887Z",
     "start_time": "2019-07-19T19:33:02.386217Z"
    }
   },
   "outputs": [
    {
     "data": {
      "text/html": [
       "<div>\n",
       "<style scoped>\n",
       "    .dataframe tbody tr th:only-of-type {\n",
       "        vertical-align: middle;\n",
       "    }\n",
       "\n",
       "    .dataframe tbody tr th {\n",
       "        vertical-align: top;\n",
       "    }\n",
       "\n",
       "    .dataframe thead th {\n",
       "        text-align: right;\n",
       "    }\n",
       "</style>\n",
       "<table border=\"1\" class=\"dataframe\">\n",
       "  <thead>\n",
       "    <tr style=\"text-align: right;\">\n",
       "      <th></th>\n",
       "      <th>brainwt</th>\n",
       "      <th>bodywt</th>\n",
       "      <th>animal</th>\n",
       "      <th>peso_en_kg</th>\n",
       "      <th>ratio</th>\n",
       "      <th>wtratiozerocheck</th>\n",
       "    </tr>\n",
       "  </thead>\n",
       "  <tbody>\n",
       "    <tr>\n",
       "      <th>0</th>\n",
       "      <td>3.385</td>\n",
       "      <td>44.500</td>\n",
       "      <td>Arctic_fox</td>\n",
       "      <td>20.184860</td>\n",
       "      <td>0.076067</td>\n",
       "      <td>13.146233</td>\n",
       "    </tr>\n",
       "    <tr>\n",
       "      <th>1</th>\n",
       "      <td>0.480</td>\n",
       "      <td>15.499</td>\n",
       "      <td>Owl_monkey</td>\n",
       "      <td>7.030228</td>\n",
       "      <td>0.030970</td>\n",
       "      <td>32.289583</td>\n",
       "    </tr>\n",
       "    <tr>\n",
       "      <th>2</th>\n",
       "      <td>1.350</td>\n",
       "      <td>8.100</td>\n",
       "      <td>Beaver</td>\n",
       "      <td>3.674098</td>\n",
       "      <td>0.166667</td>\n",
       "      <td>6.000000</td>\n",
       "    </tr>\n",
       "    <tr>\n",
       "      <th>3</th>\n",
       "      <td>464.983</td>\n",
       "      <td>423.012</td>\n",
       "      <td>Cow</td>\n",
       "      <td>191.875016</td>\n",
       "      <td>1.099219</td>\n",
       "      <td>0.909736</td>\n",
       "    </tr>\n",
       "    <tr>\n",
       "      <th>4</th>\n",
       "      <td>36.328</td>\n",
       "      <td>119.498</td>\n",
       "      <td>Gray_wolf</td>\n",
       "      <td>54.203381</td>\n",
       "      <td>0.304005</td>\n",
       "      <td>3.289419</td>\n",
       "    </tr>\n",
       "  </tbody>\n",
       "</table>\n",
       "</div>"
      ],
      "text/plain": [
       "   brainwt   bodywt      animal  peso_en_kg     ratio  wtratiozerocheck\n",
       "0    3.385   44.500  Arctic_fox   20.184860  0.076067         13.146233\n",
       "1    0.480   15.499  Owl_monkey    7.030228  0.030970         32.289583\n",
       "2    1.350    8.100      Beaver    3.674098  0.166667          6.000000\n",
       "3  464.983  423.012         Cow  191.875016  1.099219          0.909736\n",
       "4   36.328  119.498   Gray_wolf   54.203381  0.304005          3.289419"
      ]
     },
     "execution_count": 12,
     "metadata": {},
     "output_type": "execute_result"
    }
   ],
   "source": [
    "animals['wtratiozerocheck'] = np.where(animals['brainwt'] != 0, animals['bodywt'] / animals['brainwt'], 0)\n",
    "animals.head()"
   ]
  },
  {
   "cell_type": "markdown",
   "metadata": {},
   "source": [
    "## Calculations Using Functions"
   ]
  },
  {
   "cell_type": "markdown",
   "metadata": {},
   "source": [
    "Let's say we want to take a sum of all numeric columns in the animals DataFrame."
   ]
  },
  {
   "cell_type": "code",
   "execution_count": 14,
   "metadata": {},
   "outputs": [
    {
     "data": {
      "text/plain": [
       "brainwt             198.794290\n",
       "bodywt              283.135355\n",
       "peso_en_kg          128.428037\n",
       "ratio                 0.277612\n",
       "wtratiozerocheck      9.624200\n",
       "dtype: float64"
      ]
     },
     "execution_count": 14,
     "metadata": {},
     "output_type": "execute_result"
    }
   ],
   "source": [
    "# your code\n",
    "animals.mean()"
   ]
  },
  {
   "cell_type": "markdown",
   "metadata": {},
   "source": [
    "# Data Aggregation & Summarization"
   ]
  },
  {
   "cell_type": "markdown",
   "metadata": {},
   "source": [
    "## Grouping"
   ]
  },
  {
   "cell_type": "code",
   "execution_count": 15,
   "metadata": {
    "ExecuteTime": {
     "end_time": "2019-07-19T19:33:03.020550Z",
     "start_time": "2019-07-19T19:33:02.920677Z"
    }
   },
   "outputs": [],
   "source": [
    "import numpy as np\n",
    "import pandas as pd\n",
    "\n",
    "vehicles = pd.read_csv('vehicles/vehicles.csv')"
   ]
  },
  {
   "cell_type": "code",
   "execution_count": 16,
   "metadata": {},
   "outputs": [
    {
     "data": {
      "text/html": [
       "<div>\n",
       "<style scoped>\n",
       "    .dataframe tbody tr th:only-of-type {\n",
       "        vertical-align: middle;\n",
       "    }\n",
       "\n",
       "    .dataframe tbody tr th {\n",
       "        vertical-align: top;\n",
       "    }\n",
       "\n",
       "    .dataframe thead th {\n",
       "        text-align: right;\n",
       "    }\n",
       "</style>\n",
       "<table border=\"1\" class=\"dataframe\">\n",
       "  <thead>\n",
       "    <tr style=\"text-align: right;\">\n",
       "      <th></th>\n",
       "      <th>Make</th>\n",
       "      <th>Model</th>\n",
       "      <th>Year</th>\n",
       "      <th>Engine Displacement</th>\n",
       "      <th>Cylinders</th>\n",
       "      <th>Transmission</th>\n",
       "      <th>Drivetrain</th>\n",
       "      <th>Vehicle Class</th>\n",
       "      <th>Fuel Type</th>\n",
       "      <th>Fuel Barrels/Year</th>\n",
       "      <th>City MPG</th>\n",
       "      <th>Highway MPG</th>\n",
       "      <th>Combined MPG</th>\n",
       "      <th>CO2 Emission Grams/Mile</th>\n",
       "      <th>Fuel Cost/Year</th>\n",
       "    </tr>\n",
       "  </thead>\n",
       "  <tbody>\n",
       "    <tr>\n",
       "      <th>0</th>\n",
       "      <td>AM General</td>\n",
       "      <td>DJ Po Vehicle 2WD</td>\n",
       "      <td>1984</td>\n",
       "      <td>2.5</td>\n",
       "      <td>4.0</td>\n",
       "      <td>Automatic 3-spd</td>\n",
       "      <td>2-Wheel Drive</td>\n",
       "      <td>Special Purpose Vehicle 2WD</td>\n",
       "      <td>Regular</td>\n",
       "      <td>19.388824</td>\n",
       "      <td>18</td>\n",
       "      <td>17</td>\n",
       "      <td>17</td>\n",
       "      <td>522.764706</td>\n",
       "      <td>1950</td>\n",
       "    </tr>\n",
       "    <tr>\n",
       "      <th>1</th>\n",
       "      <td>AM General</td>\n",
       "      <td>FJ8c Post Office</td>\n",
       "      <td>1984</td>\n",
       "      <td>4.2</td>\n",
       "      <td>6.0</td>\n",
       "      <td>Automatic 3-spd</td>\n",
       "      <td>2-Wheel Drive</td>\n",
       "      <td>Special Purpose Vehicle 2WD</td>\n",
       "      <td>Regular</td>\n",
       "      <td>25.354615</td>\n",
       "      <td>13</td>\n",
       "      <td>13</td>\n",
       "      <td>13</td>\n",
       "      <td>683.615385</td>\n",
       "      <td>2550</td>\n",
       "    </tr>\n",
       "    <tr>\n",
       "      <th>2</th>\n",
       "      <td>AM General</td>\n",
       "      <td>Post Office DJ5 2WD</td>\n",
       "      <td>1985</td>\n",
       "      <td>2.5</td>\n",
       "      <td>4.0</td>\n",
       "      <td>Automatic 3-spd</td>\n",
       "      <td>Rear-Wheel Drive</td>\n",
       "      <td>Special Purpose Vehicle 2WD</td>\n",
       "      <td>Regular</td>\n",
       "      <td>20.600625</td>\n",
       "      <td>16</td>\n",
       "      <td>17</td>\n",
       "      <td>16</td>\n",
       "      <td>555.437500</td>\n",
       "      <td>2100</td>\n",
       "    </tr>\n",
       "    <tr>\n",
       "      <th>3</th>\n",
       "      <td>AM General</td>\n",
       "      <td>Post Office DJ8 2WD</td>\n",
       "      <td>1985</td>\n",
       "      <td>4.2</td>\n",
       "      <td>6.0</td>\n",
       "      <td>Automatic 3-spd</td>\n",
       "      <td>Rear-Wheel Drive</td>\n",
       "      <td>Special Purpose Vehicle 2WD</td>\n",
       "      <td>Regular</td>\n",
       "      <td>25.354615</td>\n",
       "      <td>13</td>\n",
       "      <td>13</td>\n",
       "      <td>13</td>\n",
       "      <td>683.615385</td>\n",
       "      <td>2550</td>\n",
       "    </tr>\n",
       "    <tr>\n",
       "      <th>4</th>\n",
       "      <td>ASC Incorporated</td>\n",
       "      <td>GNX</td>\n",
       "      <td>1987</td>\n",
       "      <td>3.8</td>\n",
       "      <td>6.0</td>\n",
       "      <td>Automatic 4-spd</td>\n",
       "      <td>Rear-Wheel Drive</td>\n",
       "      <td>Midsize Cars</td>\n",
       "      <td>Premium</td>\n",
       "      <td>20.600625</td>\n",
       "      <td>14</td>\n",
       "      <td>21</td>\n",
       "      <td>16</td>\n",
       "      <td>555.437500</td>\n",
       "      <td>2550</td>\n",
       "    </tr>\n",
       "  </tbody>\n",
       "</table>\n",
       "</div>"
      ],
      "text/plain": [
       "               Make                Model  Year  Engine Displacement  \\\n",
       "0        AM General    DJ Po Vehicle 2WD  1984                  2.5   \n",
       "1        AM General     FJ8c Post Office  1984                  4.2   \n",
       "2        AM General  Post Office DJ5 2WD  1985                  2.5   \n",
       "3        AM General  Post Office DJ8 2WD  1985                  4.2   \n",
       "4  ASC Incorporated                  GNX  1987                  3.8   \n",
       "\n",
       "   Cylinders     Transmission        Drivetrain                Vehicle Class  \\\n",
       "0        4.0  Automatic 3-spd     2-Wheel Drive  Special Purpose Vehicle 2WD   \n",
       "1        6.0  Automatic 3-spd     2-Wheel Drive  Special Purpose Vehicle 2WD   \n",
       "2        4.0  Automatic 3-spd  Rear-Wheel Drive  Special Purpose Vehicle 2WD   \n",
       "3        6.0  Automatic 3-spd  Rear-Wheel Drive  Special Purpose Vehicle 2WD   \n",
       "4        6.0  Automatic 4-spd  Rear-Wheel Drive                 Midsize Cars   \n",
       "\n",
       "  Fuel Type  Fuel Barrels/Year  City MPG  Highway MPG  Combined MPG  \\\n",
       "0   Regular          19.388824        18           17            17   \n",
       "1   Regular          25.354615        13           13            13   \n",
       "2   Regular          20.600625        16           17            16   \n",
       "3   Regular          25.354615        13           13            13   \n",
       "4   Premium          20.600625        14           21            16   \n",
       "\n",
       "   CO2 Emission Grams/Mile  Fuel Cost/Year  \n",
       "0               522.764706            1950  \n",
       "1               683.615385            2550  \n",
       "2               555.437500            2100  \n",
       "3               683.615385            2550  \n",
       "4               555.437500            2550  "
      ]
     },
     "execution_count": 16,
     "metadata": {},
     "output_type": "execute_result"
    }
   ],
   "source": [
    "vehicles.head()"
   ]
  },
  {
   "cell_type": "code",
   "execution_count": null,
   "metadata": {},
   "outputs": [],
   "source": []
  },
  {
   "cell_type": "markdown",
   "metadata": {},
   "source": [
    "## Aggregations"
   ]
  },
  {
   "cell_type": "code",
   "execution_count": 42,
   "metadata": {
    "ExecuteTime": {
     "end_time": "2019-07-19T19:33:03.280187Z",
     "start_time": "2019-07-19T19:33:03.262964Z"
    },
    "scrolled": true
   },
   "outputs": [
    {
     "data": {
      "text/html": [
       "<div>\n",
       "<style scoped>\n",
       "    .dataframe tbody tr th:only-of-type {\n",
       "        vertical-align: middle;\n",
       "    }\n",
       "\n",
       "    .dataframe tbody tr th {\n",
       "        vertical-align: top;\n",
       "    }\n",
       "\n",
       "    .dataframe thead th {\n",
       "        text-align: right;\n",
       "    }\n",
       "</style>\n",
       "<table border=\"1\" class=\"dataframe\">\n",
       "  <thead>\n",
       "    <tr style=\"text-align: right;\">\n",
       "      <th></th>\n",
       "      <th>Highway MPG</th>\n",
       "      <th>City MPG</th>\n",
       "    </tr>\n",
       "    <tr>\n",
       "      <th>Drivetrain</th>\n",
       "      <th></th>\n",
       "      <th></th>\n",
       "    </tr>\n",
       "  </thead>\n",
       "  <tbody>\n",
       "    <tr>\n",
       "      <th>2-Wheel Drive</th>\n",
       "      <td>19.340426</td>\n",
       "      <td>15.624113</td>\n",
       "    </tr>\n",
       "    <tr>\n",
       "      <th>2-Wheel Drive, Front</th>\n",
       "      <td>33.000000</td>\n",
       "      <td>25.000000</td>\n",
       "    </tr>\n",
       "    <tr>\n",
       "      <th>4-Wheel Drive</th>\n",
       "      <td>22.741966</td>\n",
       "      <td>16.913989</td>\n",
       "    </tr>\n",
       "    <tr>\n",
       "      <th>4-Wheel or All-Wheel Drive</th>\n",
       "      <td>19.633708</td>\n",
       "      <td>15.035061</td>\n",
       "    </tr>\n",
       "    <tr>\n",
       "      <th>All-Wheel Drive</th>\n",
       "      <td>25.597352</td>\n",
       "      <td>18.312898</td>\n",
       "    </tr>\n",
       "    <tr>\n",
       "      <th>Front-Wheel Drive</th>\n",
       "      <td>28.616759</td>\n",
       "      <td>21.174563</td>\n",
       "    </tr>\n",
       "    <tr>\n",
       "      <th>Part-time 4-Wheel Drive</th>\n",
       "      <td>19.088608</td>\n",
       "      <td>14.620253</td>\n",
       "    </tr>\n",
       "    <tr>\n",
       "      <th>Rear-Wheel Drive</th>\n",
       "      <td>21.225680</td>\n",
       "      <td>15.422049</td>\n",
       "    </tr>\n",
       "  </tbody>\n",
       "</table>\n",
       "</div>"
      ],
      "text/plain": [
       "                            Highway MPG   City MPG\n",
       "Drivetrain                                        \n",
       "2-Wheel Drive                 19.340426  15.624113\n",
       "2-Wheel Drive, Front          33.000000  25.000000\n",
       "4-Wheel Drive                 22.741966  16.913989\n",
       "4-Wheel or All-Wheel Drive    19.633708  15.035061\n",
       "All-Wheel Drive               25.597352  18.312898\n",
       "Front-Wheel Drive             28.616759  21.174563\n",
       "Part-time 4-Wheel Drive       19.088608  14.620253\n",
       "Rear-Wheel Drive              21.225680  15.422049"
      ]
     },
     "execution_count": 42,
     "metadata": {},
     "output_type": "execute_result"
    }
   ],
   "source": [
    "# aggregate 3 different columns and compute their mean based on the different transmission values\n",
    "\n",
    "vehicles.groupby('Drivetrain').mean().get(['Highway MPG','City MPG'])"
   ]
  },
  {
   "cell_type": "code",
   "execution_count": 43,
   "metadata": {
    "ExecuteTime": {
     "end_time": "2019-07-19T19:33:03.293554Z",
     "start_time": "2019-07-19T19:33:03.282060Z"
    },
    "scrolled": true
   },
   "outputs": [
    {
     "data": {
      "text/plain": [
       "Transmission  Year\n",
       "Auto (AV)     2011     84.000000\n",
       "              2012     87.000000\n",
       "Auto (AV-S6)  2010    386.391304\n",
       "Auto (AV-S8)  2010    423.190476\n",
       "Auto(A1)      2014     40.000000\n",
       "                         ...    \n",
       "Manual 7-spd  2015    423.937500\n",
       "              2016    418.533333\n",
       "              2017    406.750000\n",
       "Manual(M7)    2016    457.500000\n",
       "              2017    724.000000\n",
       "Name: CO2 Emission Grams/Mile, Length: 409, dtype: float64"
      ]
     },
     "execution_count": 43,
     "metadata": {},
     "output_type": "execute_result"
    }
   ],
   "source": [
    "# aggregate based on two columns and compute the median CO2 Emission for all combinations of fuel type and cylinders\n",
    "vehicles.groupby(['Transmission','Year']).mean().get('CO2 Emission Grams/Mile')"
   ]
  },
  {
   "cell_type": "code",
   "execution_count": 47,
   "metadata": {},
   "outputs": [],
   "source": [
    "from scipy.stats import hmean, gmean, mode"
   ]
  },
  {
   "cell_type": "code",
   "execution_count": 48,
   "metadata": {
    "ExecuteTime": {
     "end_time": "2019-07-19T19:33:03.671112Z",
     "start_time": "2019-07-19T19:33:03.463226Z"
    }
   },
   "outputs": [],
   "source": [
    "def moda(x):\n",
    "    return(mode(x)[0])"
   ]
  },
  {
   "cell_type": "code",
   "execution_count": 49,
   "metadata": {
    "ExecuteTime": {
     "end_time": "2019-07-19T19:33:03.311839Z",
     "start_time": "2019-07-19T19:33:03.295527Z"
    }
   },
   "outputs": [
    {
     "name": "stderr",
     "output_type": "stream",
     "text": [
      "/home/bioinformatica/.local/share/virtualenvs/Ironhack-OdDBNwqQ/lib/python3.7/site-packages/scipy/stats/stats.py:404: RuntimeWarning: invalid value encountered in double_scalars\n",
      "  return size / np.sum(1.0 / a, axis=axis, dtype=dtype)\n",
      "/home/bioinformatica/.local/share/virtualenvs/Ironhack-OdDBNwqQ/lib/python3.7/site-packages/scipy/stats/stats.py:339: RuntimeWarning: Mean of empty slice.\n",
      "  return np.exp(log_a.mean(axis=axis))\n",
      "/home/bioinformatica/.local/share/virtualenvs/Ironhack-OdDBNwqQ/lib/python3.7/site-packages/numpy/core/_methods.py:161: RuntimeWarning: invalid value encountered in double_scalars\n",
      "  ret = ret.dtype.type(ret / rcount)\n"
     ]
    },
    {
     "data": {
      "text/html": [
       "<div>\n",
       "<style scoped>\n",
       "    .dataframe tbody tr th:only-of-type {\n",
       "        vertical-align: middle;\n",
       "    }\n",
       "\n",
       "    .dataframe tbody tr th {\n",
       "        vertical-align: top;\n",
       "    }\n",
       "\n",
       "    .dataframe thead th {\n",
       "        text-align: right;\n",
       "    }\n",
       "</style>\n",
       "<table border=\"1\" class=\"dataframe\">\n",
       "  <thead>\n",
       "    <tr style=\"text-align: right;\">\n",
       "      <th></th>\n",
       "      <th>mean</th>\n",
       "      <th>hmean</th>\n",
       "      <th>gmean</th>\n",
       "      <th>moda</th>\n",
       "    </tr>\n",
       "    <tr>\n",
       "      <th>Drivetrain</th>\n",
       "      <th></th>\n",
       "      <th></th>\n",
       "      <th></th>\n",
       "      <th></th>\n",
       "    </tr>\n",
       "  </thead>\n",
       "  <tbody>\n",
       "    <tr>\n",
       "      <th>2-Wheel Drive</th>\n",
       "      <td>19.340426</td>\n",
       "      <td>18.008391</td>\n",
       "      <td>18.667159</td>\n",
       "      <td>22</td>\n",
       "    </tr>\n",
       "    <tr>\n",
       "      <th>2-Wheel Drive, Front</th>\n",
       "      <td>33.000000</td>\n",
       "      <td>33.000000</td>\n",
       "      <td>33.000000</td>\n",
       "      <td>33</td>\n",
       "    </tr>\n",
       "    <tr>\n",
       "      <th>4-Wheel Drive</th>\n",
       "      <td>22.741966</td>\n",
       "      <td>22.055783</td>\n",
       "      <td>22.399567</td>\n",
       "      <td>21</td>\n",
       "    </tr>\n",
       "    <tr>\n",
       "      <th>4-Wheel or All-Wheel Drive</th>\n",
       "      <td>19.633708</td>\n",
       "      <td>18.926044</td>\n",
       "      <td>19.283234</td>\n",
       "      <td>17</td>\n",
       "    </tr>\n",
       "    <tr>\n",
       "      <th>All-Wheel Drive</th>\n",
       "      <td>25.597352</td>\n",
       "      <td>24.897742</td>\n",
       "      <td>25.251994</td>\n",
       "      <td>23</td>\n",
       "    </tr>\n",
       "    <tr>\n",
       "      <th>Front-Wheel Drive</th>\n",
       "      <td>28.616759</td>\n",
       "      <td>27.832465</td>\n",
       "      <td>28.210801</td>\n",
       "      <td>26</td>\n",
       "    </tr>\n",
       "    <tr>\n",
       "      <th>Part-time 4-Wheel Drive</th>\n",
       "      <td>19.088608</td>\n",
       "      <td>18.834454</td>\n",
       "      <td>18.964792</td>\n",
       "      <td>21</td>\n",
       "    </tr>\n",
       "    <tr>\n",
       "      <th>Rear-Wheel Drive</th>\n",
       "      <td>21.225680</td>\n",
       "      <td>20.295590</td>\n",
       "      <td>20.765690</td>\n",
       "      <td>22</td>\n",
       "    </tr>\n",
       "  </tbody>\n",
       "</table>\n",
       "</div>"
      ],
      "text/plain": [
       "                                 mean      hmean      gmean  moda\n",
       "Drivetrain                                                       \n",
       "2-Wheel Drive               19.340426  18.008391  18.667159    22\n",
       "2-Wheel Drive, Front        33.000000  33.000000  33.000000    33\n",
       "4-Wheel Drive               22.741966  22.055783  22.399567    21\n",
       "4-Wheel or All-Wheel Drive  19.633708  18.926044  19.283234    17\n",
       "All-Wheel Drive             25.597352  24.897742  25.251994    23\n",
       "Front-Wheel Drive           28.616759  27.832465  28.210801    26\n",
       "Part-time 4-Wheel Drive     19.088608  18.834454  18.964792    21\n",
       "Rear-Wheel Drive            21.225680  20.295590  20.765690    22"
      ]
     },
     "execution_count": 49,
     "metadata": {},
     "output_type": "execute_result"
    }
   ],
   "source": [
    "# produce the mean, median and standard deviation for combined MPG grouped by fuel type\n",
    "\n",
    "\n",
    "vehicles.groupby('Drivetrain')['Highway MPG'].agg(['mean',('hmean',lambda x: hmean(x)), ('gmean',gmean), ('moda',moda)])"
   ]
  }
 ],
 "metadata": {
  "kernelspec": {
   "display_name": "Ironhack",
   "language": "python",
   "name": "ironhack"
  },
  "language_info": {
   "codemirror_mode": {
    "name": "ipython",
    "version": 3
   },
   "file_extension": ".py",
   "mimetype": "text/x-python",
   "name": "python",
   "nbconvert_exporter": "python",
   "pygments_lexer": "ipython3",
   "version": "3.7.3"
  },
  "latex_envs": {
   "LaTeX_envs_menu_present": true,
   "autoclose": false,
   "autocomplete": true,
   "bibliofile": "biblio.bib",
   "cite_by": "apalike",
   "current_citInitial": 1,
   "eqLabelWithNumbers": true,
   "eqNumInitial": 1,
   "hotkeys": {
    "equation": "Ctrl-E",
    "itemize": "Ctrl-I"
   },
   "labels_anchors": false,
   "latex_user_defs": false,
   "report_style_numbering": false,
   "user_envs_cfg": false
  },
  "toc": {
   "base_numbering": 1,
   "nav_menu": {},
   "number_sections": true,
   "sideBar": true,
   "skip_h1_title": false,
   "title_cell": "Table of Contents",
   "title_sidebar": "Contents",
   "toc_cell": true,
   "toc_position": {},
   "toc_section_display": true,
   "toc_window_display": false
  },
  "varInspector": {
   "cols": {
    "lenName": 16,
    "lenType": 16,
    "lenVar": 40
   },
   "kernels_config": {
    "python": {
     "delete_cmd_postfix": "",
     "delete_cmd_prefix": "del ",
     "library": "var_list.py",
     "varRefreshCmd": "print(var_dic_list())"
    },
    "r": {
     "delete_cmd_postfix": ") ",
     "delete_cmd_prefix": "rm(",
     "library": "var_list.r",
     "varRefreshCmd": "cat(var_dic_list()) "
    }
   },
   "types_to_exclude": [
    "module",
    "function",
    "builtin_function_or_method",
    "instance",
    "_Feature"
   ],
   "window_display": false
  }
 },
 "nbformat": 4,
 "nbformat_minor": 2
}
