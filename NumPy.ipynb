{
 "cells": [
  {
   "cell_type": "markdown",
   "metadata": {},
   "source": [
    "# Numpy"
   ]
  },
  {
   "cell_type": "markdown",
   "metadata": {},
   "source": [
    "## Arrays"
   ]
  },
  {
   "cell_type": "markdown",
   "metadata": {},
   "source": [
    "### Introduction"
   ]
  },
  {
   "cell_type": "code",
   "execution_count": 1,
   "metadata": {},
   "outputs": [],
   "source": [
    "import numpy as np"
   ]
  },
  {
   "cell_type": "markdown",
   "metadata": {},
   "source": [
    " Why is NumPy such an important tool for Science subjects in python? Let's start by looking at one of the most important feautres it has: **The arrays**\n",
    " \n",
    "An array is a data structure that stores values of the **same data type**, in python this is the main difference between arrays and lists but there are some other important differences that will be really useful for us, let's create the examples needed below:"
   ]
  },
  {
   "cell_type": "code",
   "execution_count": 2,
   "metadata": {},
   "outputs": [
    {
     "name": "stdout",
     "output_type": "stream",
     "text": [
      "[1, 2, 3]\n",
      "[1 2 3]\n"
     ]
    }
   ],
   "source": [
    "p_list = [1,2,3]\n",
    "np_arr = np.array(p_list)\n",
    "print(f'{p_list}\\n{np_arr}')"
   ]
  },
  {
   "cell_type": "markdown",
   "metadata": {},
   "source": [
    "In the cell above we can see that both, lists and arrays can store elements without changing their true value as we will show now:"
   ]
  },
  {
   "cell_type": "code",
   "execution_count": 3,
   "metadata": {},
   "outputs": [
    {
     "name": "stdout",
     "output_type": "stream",
     "text": [
      "First element of the list: 1\n",
      "First element of the array: 1\n",
      "Sum between first elements of the list and array: 2\n"
     ]
    }
   ],
   "source": [
    "print(f'First element of the list: {p_list[0]}')\n",
    "print(f'First element of the array: {np_arr[0]}')\n",
    "print(f'Sum between first elements of the list and array: {p_list[0] + np_arr[0]}')"
   ]
  },
  {
   "cell_type": "markdown",
   "metadata": {},
   "source": [
    "As we said, the main difference between a python list and a NumPy array is that arrays can't store more than one data type, let's check this out:"
   ]
  },
  {
   "cell_type": "code",
   "execution_count": 4,
   "metadata": {},
   "outputs": [
    {
     "name": "stdout",
     "output_type": "stream",
     "text": [
      "The list first item is type: <class 'int'>\n",
      "The array first item is type: <class 'numpy.str_'>\n",
      "\n",
      "You can't operate with strings and integers!!!\n"
     ]
    }
   ],
   "source": [
    "p_list_data_type = [1, 2, '3']\n",
    "np_arr_data_type = np.array([1, 2, '3'])\n",
    "\n",
    "for position in range(len(p_list_data_type)):\n",
    "    try:\n",
    "        print(p_list_data_type[position] + np_arr_data_type[positionition])\n",
    "    except: \n",
    "        print(f'The list first item is type: {type(p_list_data_type[position])}')\n",
    "        print(f'The array first item is type: {type(np_arr_data_type[position])}')\n",
    "        print(\"\\nYou can't operate with strings and integers!!!\")\n",
    "        break"
   ]
  },
  {
   "cell_type": "markdown",
   "metadata": {},
   "source": [
    "When we try to have more than one data type in the NumPy array, it automatically converts all of its elements to the type it can handle, in this case strings. Why is it happening? The answer of this question will be found in the last  point of the characteristics."
   ]
  },
  {
   "cell_type": "markdown",
   "metadata": {},
   "source": [
    "### Characteristics"
   ]
  },
  {
   "cell_type": "markdown",
   "metadata": {},
   "source": [
    "#### Element-wise operations"
   ]
  },
  {
   "cell_type": "markdown",
   "metadata": {},
   "source": [
    "Element-wise operetions are performed element by element in a collection of numbers. You can actually perform operations in python basic lists, but they are not **automatically** done, whether on NumPy arrays they are. Here we can see how it works:"
   ]
  },
  {
   "cell_type": "code",
   "execution_count": 5,
   "metadata": {},
   "outputs": [
    {
     "name": "stdout",
     "output_type": "stream",
     "text": [
      "Sum of lists: [1, 2, 3, 1, 2, 3]\n",
      "Sum of arrays: [2 4 6]\n",
      "Multiplication of arrays: [1 4 9]\n"
     ]
    }
   ],
   "source": [
    "# Two equivalent lists are created with the values 1, 2, 3\n",
    "el_list1 = [1, 2, 3]\n",
    "el_list2 = el_list1.copy()\n",
    "\n",
    "# Two equivalent arrays are created with the values 1, 2, 3\n",
    "el_array1 = np.array(el_list1)\n",
    "el_array2 = np.array(el_list1)\n",
    "\n",
    "print(f'Sum of lists: {el_list1 + el_list2}')\n",
    "print(f'Sum of arrays: {el_array1 + el_array2}')\n",
    "\n",
    "#We can't actually multiply lists as pyton doesn't knwo\n",
    "print(f'Multiplication of arrays: {el_array1 * el_list2}')"
   ]
  },
  {
   "cell_type": "markdown",
   "metadata": {},
   "source": [
    "As we can see, arrays can handle operations for each element by applying operations to themselves, something not enabled with python lists."
   ]
  },
  {
   "cell_type": "markdown",
   "metadata": {},
   "source": [
    "#### Multi-dimensional slicing"
   ]
  },
  {
   "cell_type": "markdown",
   "metadata": {},
   "source": [
    "In lists we can access to the rows of a matrix, but not to rows and columns **at the same time** (different dimensions). That's something we can do in NumPy:"
   ]
  },
  {
   "cell_type": "code",
   "execution_count": 23,
   "metadata": {},
   "outputs": [
    {
     "name": "stdout",
     "output_type": "stream",
     "text": [
      "[[[8.74648585 9.15417038 2.985392  ]\n",
      "  [9.53548579 7.01627598 0.28823439]\n",
      "  [9.98267791 2.02367793 9.40038867]]\n",
      "\n",
      " [[6.64257351 2.19824903 3.35761326]\n",
      "  [1.98969134 6.16098604 1.21676451]\n",
      "  [4.33539    4.4162892  8.28803192]]\n",
      "\n",
      " [[5.84030532 2.34447405 1.71374356]\n",
      "  [6.48101167 4.78829637 8.4339782 ]\n",
      "  [5.52881697 9.16534279 8.07372751]]]\n"
     ]
    }
   ],
   "source": [
    "#Create n-dimensional array and transform it into a list\n",
    "n_dimensional_array = np.random.rand(3,3,3) * 10\n",
    "n_dimensional_list = n_dimensional_array.tolist()\n",
    "\n",
    "#Print the matrix\n",
    "print(n_dimensional_array)"
   ]
  },
  {
   "cell_type": "code",
   "execution_count": 27,
   "metadata": {},
   "outputs": [
    {
     "data": {
      "text/plain": [
       "array([[2.985392  , 0.28823439, 9.40038867],\n",
       "       [3.35761326, 1.21676451, 8.28803192],\n",
       "       [1.71374356, 8.4339782 , 8.07372751]])"
      ]
     },
     "execution_count": 27,
     "metadata": {},
     "output_type": "execute_result"
    }
   ],
   "source": [
    "#With this method we can get the last column (and any other, same with rows)\n",
    "n_dimensional_array[:,:,-1]"
   ]
  },
  {
   "cell_type": "markdown",
   "metadata": {},
   "source": [
    "What happens with **lists**?"
   ]
  },
  {
   "cell_type": "code",
   "execution_count": 28,
   "metadata": {},
   "outputs": [
    {
     "data": {
      "text/plain": [
       "[[[8.746485850216914, 9.154170381259567, 2.985391999376329],\n",
       "  [9.535485785442178, 7.016275982464472, 0.28823439373173443],\n",
       "  [9.98267790932502, 2.023677929975344, 9.400388673959135]],\n",
       " [[6.642573512788115, 2.1982490285405145, 3.3576132611940537],\n",
       "  [1.9896913412068573, 6.160986039933421, 1.2167645101322089],\n",
       "  [4.335390002376698, 4.416289195039951, 8.28803191608387]],\n",
       " [[5.840305321249871, 2.34447404574888, 1.7137435630720865],\n",
       "  [6.481011673777056, 4.788296368782573, 8.43397819515727],\n",
       "  [5.52881697022202, 9.165342792305431, 8.073727511417253]]]"
      ]
     },
     "execution_count": 28,
     "metadata": {},
     "output_type": "execute_result"
    }
   ],
   "source": [
    "n_dimensional_list"
   ]
  },
  {
   "cell_type": "code",
   "execution_count": 29,
   "metadata": {},
   "outputs": [
    {
     "data": {
      "text/plain": [
       "[[5.840305321249871, 2.34447404574888, 1.7137435630720865],\n",
       " [6.481011673777056, 4.788296368782573, 8.43397819515727],\n",
       " [5.52881697022202, 9.165342792305431, 8.073727511417253]]"
      ]
     },
     "execution_count": 29,
     "metadata": {},
     "output_type": "execute_result"
    }
   ],
   "source": [
    "n_dimensional_list[:][-1] #Slicing the alst column is not possible"
   ]
  },
  {
   "cell_type": "code",
   "execution_count": null,
   "metadata": {},
   "outputs": [],
   "source": [
    "[row[2] for row in n_dimensional_list]"
   ]
  },
  {
   "cell_type": "markdown",
   "metadata": {},
   "source": [
    "With lists, we would need to **create another list** with the values of the columns we are selecting, we are not able to change those values automatically as we can do in NumPy. Also, the process is more complciated, as it varies depending on the shape of the matrix we are trying to slice."
   ]
  },
  {
   "cell_type": "markdown",
   "metadata": {},
   "source": [
    "#### Specific object, with specific methods"
   ]
  },
  {
   "cell_type": "markdown",
   "metadata": {},
   "source": [
    "Let's start by creating an array:"
   ]
  },
  {
   "cell_type": "code",
   "execution_count": 69,
   "metadata": {},
   "outputs": [
    {
     "name": "stdout",
     "output_type": "stream",
     "text": [
      "[[1 2 3]\n",
      " [4 5 6]\n",
      " [7 8 9]]\n"
     ]
    }
   ],
   "source": [
    "ob_array = np.arange(1,10).reshape(3,3)\n",
    "print(ob_array)"
   ]
  },
  {
   "cell_type": "markdown",
   "metadata": {},
   "source": [
    "##### Attributes"
   ]
  },
  {
   "cell_type": "markdown",
   "metadata": {},
   "source": [
    "###### Array characteristics:"
   ]
  },
  {
   "cell_type": "code",
   "execution_count": null,
   "metadata": {},
   "outputs": [],
   "source": [
    "# Number of elements in the array\n",
    "print(ob_array.size)"
   ]
  },
  {
   "cell_type": "code",
   "execution_count": null,
   "metadata": {
    "scrolled": true
   },
   "outputs": [],
   "source": [
    "# Number of dimensions\n",
    "ob_array.ndim"
   ]
  },
  {
   "cell_type": "code",
   "execution_count": null,
   "metadata": {},
   "outputs": [],
   "source": [
    "# Size of the dimensions of the array\n",
    "print(ob_array.shape)"
   ]
  },
  {
   "cell_type": "code",
   "execution_count": null,
   "metadata": {},
   "outputs": [],
   "source": [
    "# Data type of the array's elements\n",
    "ob_array.dtype"
   ]
  },
  {
   "cell_type": "code",
   "execution_count": null,
   "metadata": {},
   "outputs": [],
   "source": [
    "# Transposed array\n",
    "ob_array.T"
   ]
  },
  {
   "cell_type": "markdown",
   "metadata": {},
   "source": [
    "There are some extra attributes but we won't explain them as they are not so useful for us, such as the `array.real` or `array.imag`, that takes the real or imaginary numbers from an array. "
   ]
  },
  {
   "cell_type": "markdown",
   "metadata": {},
   "source": [
    "###### Memory characteristics:"
   ]
  },
  {
   "cell_type": "code",
   "execution_count": null,
   "metadata": {},
   "outputs": [],
   "source": [
    "# Python buffer object pointing to the start of the array’s data\n",
    "ob_array.data"
   ]
  },
  {
   "cell_type": "code",
   "execution_count": null,
   "metadata": {
    "scrolled": true
   },
   "outputs": [],
   "source": [
    "# Information about the memory layout of the array\n",
    "ob_array.flags"
   ]
  },
  {
   "cell_type": "code",
   "execution_count": null,
   "metadata": {},
   "outputs": [],
   "source": [
    "# Size of the items (its type)\n",
    "ob_array.itemsize"
   ]
  },
  {
   "cell_type": "code",
   "execution_count": null,
   "metadata": {},
   "outputs": [],
   "source": [
    "# Number of bytes \n",
    "ob_array.nbytes"
   ]
  },
  {
   "cell_type": "code",
   "execution_count": null,
   "metadata": {},
   "outputs": [],
   "source": [
    "# Array strides\n",
    "ob_array.strides"
   ]
  },
  {
   "cell_type": "markdown",
   "metadata": {},
   "source": [
    "##### Methods"
   ]
  },
  {
   "cell_type": "markdown",
   "metadata": {},
   "source": [
    "###### Numerical calculations:"
   ]
  },
  {
   "cell_type": "code",
   "execution_count": null,
   "metadata": {},
   "outputs": [],
   "source": [
    "# Return the sum of the elements in a specified axis\n",
    "ob_array.sum()"
   ]
  },
  {
   "cell_type": "code",
   "execution_count": null,
   "metadata": {},
   "outputs": [],
   "source": [
    "# Return the product of the elements in a secified axis\n",
    "ob_array.prod()"
   ]
  },
  {
   "cell_type": "code",
   "execution_count": null,
   "metadata": {},
   "outputs": [],
   "source": [
    "# Return the maximum value in the specified axis\n",
    "ob_array.max()"
   ]
  },
  {
   "cell_type": "code",
   "execution_count": null,
   "metadata": {},
   "outputs": [],
   "source": [
    "# Return the minimum value in the specified axis\n",
    "ob_array.min()"
   ]
  },
  {
   "cell_type": "code",
   "execution_count": null,
   "metadata": {},
   "outputs": [],
   "source": [
    "# Return the mean value in the specified axis \n",
    "ob_array.mean()"
   ]
  },
  {
   "cell_type": "code",
   "execution_count": null,
   "metadata": {},
   "outputs": [],
   "source": [
    "# Return the variance of the elements in a specified axis\n",
    "ob_array.var()"
   ]
  },
  {
   "cell_type": "code",
   "execution_count": null,
   "metadata": {},
   "outputs": [],
   "source": [
    "# Return the standard deviation of the elements in a specified axis\n",
    "ob_array.std()"
   ]
  },
  {
   "cell_type": "code",
   "execution_count": 68,
   "metadata": {},
   "outputs": [
    {
     "ename": "NameError",
     "evalue": "name 'ob_array' is not defined",
     "output_type": "error",
     "traceback": [
      "\u001b[1;31m---------------------------------------------------------------------------\u001b[0m",
      "\u001b[1;31mNameError\u001b[0m                                 Traceback (most recent call last)",
      "\u001b[1;32m<ipython-input-68-8fa55032ca9c>\u001b[0m in \u001b[0;36m<module>\u001b[1;34m\u001b[0m\n\u001b[0;32m      1\u001b[0m \u001b[1;31m# Return the range of the elements in a secified axis\u001b[0m\u001b[1;33m\u001b[0m\u001b[1;33m\u001b[0m\u001b[1;33m\u001b[0m\u001b[0m\n\u001b[1;32m----> 2\u001b[1;33m \u001b[0mob_array\u001b[0m\u001b[1;33m.\u001b[0m\u001b[0mptp\u001b[0m\u001b[1;33m(\u001b[0m\u001b[1;33m)\u001b[0m\u001b[1;33m\u001b[0m\u001b[1;33m\u001b[0m\u001b[0m\n\u001b[0m",
      "\u001b[1;31mNameError\u001b[0m: name 'ob_array' is not defined"
     ]
    }
   ],
   "source": [
    "# Return the range of the elements in a secified axis\n",
    "ob_array.ptp()"
   ]
  },
  {
   "cell_type": "code",
   "execution_count": null,
   "metadata": {},
   "outputs": [],
   "source": [
    "# Return the sum of the elements along the diagonal\n",
    "ob_array.trace()"
   ]
  },
  {
   "cell_type": "code",
   "execution_count": null,
   "metadata": {},
   "outputs": [],
   "source": [
    "# Return the cumulative sum of the elements \n",
    "ob_array.cumsum()"
   ]
  },
  {
   "cell_type": "code",
   "execution_count": null,
   "metadata": {
    "scrolled": true
   },
   "outputs": [],
   "source": [
    "# Return the cumulative product of the elements \n",
    "ob_array.cumprod()"
   ]
  },
  {
   "cell_type": "markdown",
   "metadata": {},
   "source": [
    "###### Array properties, changes and calculations:"
   ]
  },
  {
   "cell_type": "code",
   "execution_count": null,
   "metadata": {},
   "outputs": [],
   "source": [
    "# Reshape the array to change the dimensions and / or their size:\n",
    "ob_array.reshape(3,3)"
   ]
  },
  {
   "cell_type": "code",
   "execution_count": null,
   "metadata": {},
   "outputs": [],
   "source": [
    "# Return A COPY of the array transofrmed into a 1-D array\n",
    "ob_array.flatten()"
   ]
  },
  {
   "cell_type": "code",
   "execution_count": null,
   "metadata": {},
   "outputs": [],
   "source": [
    "# Return the array changing its type\n",
    "ob_array.astype(float)"
   ]
  },
  {
   "cell_type": "code",
   "execution_count": null,
   "metadata": {},
   "outputs": [],
   "source": [
    "# Limits the value in an array\n",
    "ob_array.clip(2,8)"
   ]
  },
  {
   "cell_type": "code",
   "execution_count": null,
   "metadata": {},
   "outputs": [],
   "source": [
    "# Fills the array with the value given\n",
    "print(ob_array.fill(5))"
   ]
  },
  {
   "cell_type": "code",
   "execution_count": null,
   "metadata": {},
   "outputs": [],
   "source": [
    "# Creates a copy of the array\n",
    "ob_array.copy()"
   ]
  },
  {
   "cell_type": "code",
   "execution_count": null,
   "metadata": {},
   "outputs": [],
   "source": [
    "# Dot product of two arrays\n",
    "ob_array.dot(ob_array)"
   ]
  },
  {
   "cell_type": "code",
   "execution_count": null,
   "metadata": {},
   "outputs": [],
   "source": [
    "# Return the array with the specified axis interchanged\n",
    "ob_array.swapaxes(0,1)"
   ]
  },
  {
   "cell_type": "code",
   "execution_count": null,
   "metadata": {},
   "outputs": [],
   "source": [
    "# Return an array with the values from the given array specifying their indices\n",
    "ob_array.take((0,1,8))"
   ]
  },
  {
   "cell_type": "code",
   "execution_count": null,
   "metadata": {
    "scrolled": true
   },
   "outputs": [],
   "source": [
    "# Rounds every element to X decimals\n",
    "ob_array.round()"
   ]
  },
  {
   "cell_type": "code",
   "execution_count": null,
   "metadata": {},
   "outputs": [],
   "source": [
    "# Transpose the given array\n",
    "ob_array.transpose()"
   ]
  },
  {
   "cell_type": "code",
   "execution_count": null,
   "metadata": {},
   "outputs": [],
   "source": [
    "# Return the array transformed into lists\n",
    "ob_array.tolist()"
   ]
  },
  {
   "cell_type": "markdown",
   "metadata": {},
   "source": [
    "###### Other and indices:"
   ]
  },
  {
   "cell_type": "code",
   "execution_count": 71,
   "metadata": {},
   "outputs": [
    {
     "data": {
      "text/plain": [
       "True"
      ]
     },
     "execution_count": 71,
     "metadata": {},
     "output_type": "execute_result"
    }
   ],
   "source": [
    "# Return True if all elements evaluate to True\n",
    "ob_array.any()"
   ]
  },
  {
   "cell_type": "code",
   "execution_count": 70,
   "metadata": {},
   "outputs": [
    {
     "data": {
      "text/plain": [
       "True"
      ]
     },
     "execution_count": 70,
     "metadata": {},
     "output_type": "execute_result"
    }
   ],
   "source": [
    "# Return True if all elements evaluate to True\n",
    "ob_array.all()"
   ]
  },
  {
   "cell_type": "code",
   "execution_count": null,
   "metadata": {},
   "outputs": [],
   "source": [
    "# Return the indices of the maximum values along an axis\n",
    "ob_array.argmax()"
   ]
  },
  {
   "cell_type": "code",
   "execution_count": null,
   "metadata": {},
   "outputs": [],
   "source": [
    "# Return the indices of the minimum values along an axis\n",
    "ob_array.argmin()"
   ]
  },
  {
   "cell_type": "code",
   "execution_count": null,
   "metadata": {},
   "outputs": [],
   "source": [
    "# Return the indices of the elements that are non-zero\n",
    "ob_array.nonzero()"
   ]
  },
  {
   "cell_type": "markdown",
   "metadata": {},
   "source": [
    "#### Items stored in contiguous memory"
   ]
  },
  {
   "cell_type": "markdown",
   "metadata": {},
   "source": [
    "As we saw in the introduction, NumPy arrays are homogeneus (every element is from the same type), but it's not the only rigidity it has, also every array must have a **fixed size**. This means that the shape of every vector must be the same in order to create an efficient matrix. This allows python to store the elements in contiguous memory, which improves the matrices operations performance a lot. let's take a closer look at it:"
   ]
  },
  {
   "cell_type": "code",
   "execution_count": 30,
   "metadata": {},
   "outputs": [],
   "source": [
    "dt_array = np.array([[0,1,2],[3,4,5,6]])"
   ]
  },
  {
   "cell_type": "code",
   "execution_count": 31,
   "metadata": {},
   "outputs": [
    {
     "data": {
      "text/plain": [
       "array([list([0, 1, 2]), list([3, 4, 5, 6])], dtype=object)"
      ]
     },
     "execution_count": 31,
     "metadata": {},
     "output_type": "execute_result"
    }
   ],
   "source": [
    "dt_array"
   ]
  },
  {
   "cell_type": "markdown",
   "metadata": {},
   "source": [
    "If we tried to add an element into the second dimension of the array (first or second lsit), pythong would automatically change the dimension types to \"object\" and would convert the dimensions into lists instead of arrays. \n",
    "\n",
    "If we force a dype in the array it would give us an error, as you can't create a matrix with no fixed number of dimensions:"
   ]
  },
  {
   "cell_type": "code",
   "execution_count": 34,
   "metadata": {},
   "outputs": [
    {
     "ename": "ValueError",
     "evalue": "setting an array element with a sequence.",
     "output_type": "error",
     "traceback": [
      "\u001b[1;31m---------------------------------------------------------------------------\u001b[0m",
      "\u001b[1;31mValueError\u001b[0m                                Traceback (most recent call last)",
      "\u001b[1;32m<ipython-input-34-e0739dc2c507>\u001b[0m in \u001b[0;36m<module>\u001b[1;34m\u001b[0m\n\u001b[1;32m----> 1\u001b[1;33m \u001b[0mforced_array\u001b[0m \u001b[1;33m=\u001b[0m \u001b[0mnp\u001b[0m\u001b[1;33m.\u001b[0m\u001b[0marray\u001b[0m\u001b[1;33m(\u001b[0m\u001b[1;33m[\u001b[0m\u001b[1;33m[\u001b[0m\u001b[1;36m0\u001b[0m\u001b[1;33m,\u001b[0m\u001b[1;36m1\u001b[0m\u001b[1;33m,\u001b[0m\u001b[1;36m2\u001b[0m\u001b[1;33m]\u001b[0m\u001b[1;33m,\u001b[0m\u001b[1;33m[\u001b[0m\u001b[1;36m3\u001b[0m\u001b[1;33m,\u001b[0m\u001b[1;36m4\u001b[0m\u001b[1;33m,\u001b[0m\u001b[1;36m5\u001b[0m\u001b[1;33m,\u001b[0m\u001b[1;36m6\u001b[0m\u001b[1;33m]\u001b[0m\u001b[1;33m]\u001b[0m\u001b[1;33m,\u001b[0m \u001b[0mdtype\u001b[0m \u001b[1;33m=\u001b[0m \u001b[1;34m'int'\u001b[0m\u001b[1;33m)\u001b[0m\u001b[1;33m\u001b[0m\u001b[1;33m\u001b[0m\u001b[0m\n\u001b[0m\u001b[0;32m      2\u001b[0m \u001b[0mprint\u001b[0m\u001b[1;33m(\u001b[0m\u001b[0mforced_array\u001b[0m\u001b[1;33m)\u001b[0m\u001b[1;33m\u001b[0m\u001b[1;33m\u001b[0m\u001b[0m\n",
      "\u001b[1;31mValueError\u001b[0m: setting an array element with a sequence."
     ]
    }
   ],
   "source": [
    "forced_array = np.array([[0,1,2],[3,4,5,6]], dtype = 'int')\n",
    "print(forced_array)"
   ]
  },
  {
   "cell_type": "markdown",
   "metadata": {},
   "source": [
    "These constraints enable Python to store the array in a single contiguous block of memory. There are two key concepts: **dimensions** and **strides**:\n",
    "\n",
    "* **Dimensions** are the number of \"arrays\" or number sequences that the numpy array has.\n",
    "* **Strides** are the number of bytes you need to step in each dimension when traversing the array.\n",
    "\n",
    "\n",
    "![](images/np_strides.png)\n",
    "\n",
    "\n",
    "Strides are the number of bytes to jump-over in the memory in order to get from one item to the next item along each direction/dimension of the array. In other words, it's the **byte-separation** between consecutive items for each dimension. Let's take a look at it:"
   ]
  },
  {
   "cell_type": "code",
   "execution_count": 35,
   "metadata": {},
   "outputs": [
    {
     "name": "stdout",
     "output_type": "stream",
     "text": [
      "Array: \n",
      "\n",
      "[[1 2 3]\n",
      " [4 5 6]\n",
      " [7 8 9]]\n",
      "\n",
      "Size of the elements of the array (in bytes): 4\n"
     ]
    }
   ],
   "source": [
    "array = np.arange(1,10).reshape(3,3)\n",
    "print(f'Array: \\n\\n{array}')\n",
    "print(f'\\nSize of the elements of the array (in bytes): {array.itemsize}')"
   ]
  },
  {
   "cell_type": "markdown",
   "metadata": {},
   "source": [
    "The size depends on the type of the element, not the element itself, that's why we need homogeneus data, we can check it this way:"
   ]
  },
  {
   "cell_type": "code",
   "execution_count": 36,
   "metadata": {
    "scrolled": true
   },
   "outputs": [
    {
     "name": "stdout",
     "output_type": "stream",
     "text": [
      "Array float: \n",
      "\n",
      "[[1. 2. 3.]\n",
      " [4. 5. 6.]\n",
      " [7. 8. 9.]]\n",
      "\n",
      "Size of the elements of the array (in bytes): 8\n"
     ]
    }
   ],
   "source": [
    "array_float = np.array(array, dtype = 'float')\n",
    "print(f'Array float: \\n\\n{array_float}')\n",
    "print(f'\\nSize of the elements of the array (in bytes): {array_float.itemsize}')"
   ]
  },
  {
   "cell_type": "markdown",
   "metadata": {},
   "source": [
    "So, to go from the first element of the first row to the second, we would need to move through 4 bytes, but what if we wanted to move from the first element of the first row to the first element of the second row?\n",
    "\n",
    "In this case, we would need to pass through all of the items until we are in the desired row and then keep moving until we find the chosen position. As arrays are fixed size, we know the distance between dimensions will be the same, and so we can conclude that between dimensions (second dimensions, or columns) the stride (number of bytes needed to move through it) will be the `array.itemsize` * size of the previous dimension, in this case:"
   ]
  },
  {
   "cell_type": "code",
   "execution_count": 37,
   "metadata": {},
   "outputs": [
    {
     "data": {
      "text/plain": [
       "(12, 4)"
      ]
     },
     "execution_count": 37,
     "metadata": {},
     "output_type": "execute_result"
    }
   ],
   "source": [
    "array.strides"
   ]
  },
  {
   "cell_type": "markdown",
   "metadata": {},
   "source": [
    "* **Vertically** (Columns): 3 * 4 -> 12\n",
    "* **Horizontally** (Rows) : 4 -> 4"
   ]
  },
  {
   "cell_type": "markdown",
   "metadata": {},
   "source": [
    "The same would happen with more dimensions:"
   ]
  },
  {
   "cell_type": "code",
   "execution_count": 38,
   "metadata": {},
   "outputs": [
    {
     "name": "stdout",
     "output_type": "stream",
     "text": [
      "[[[ 1  2  3]\n",
      "  [ 4  5  6]\n",
      "  [ 7  8  9]]\n",
      "\n",
      " [[10 11 12]\n",
      "  [13 14 15]\n",
      "  [16 17 18]]\n",
      "\n",
      " [[19 20 21]\n",
      "  [22 23 24]\n",
      "  [25 26 27]]]\n",
      "\n",
      "3D array strides: (36, 12, 4)\n"
     ]
    }
   ],
   "source": [
    "array_3D = np.arange(1,28).reshape(3,3,3)\n",
    "print(array_3D)\n",
    "print(f'\\n3D array strides: {array_3D.strides}')"
   ]
  },
  {
   "cell_type": "markdown",
   "metadata": {},
   "source": [
    "* **Depth** : 12 * 3 -> 36\n",
    "* **Vertically** (Columns): 3 * 4 -> 12\n",
    "* **Horizontally** (Rows) : 4 -> 4"
   ]
  },
  {
   "cell_type": "markdown",
   "metadata": {
    "heading_collapsed": true
   },
   "source": [
    "## Functions"
   ]
  },
  {
   "cell_type": "markdown",
   "metadata": {
    "hidden": true
   },
   "source": [
    "### Array creation:"
   ]
  },
  {
   "cell_type": "markdown",
   "metadata": {
    "hidden": true
   },
   "source": [
    "#### np.array():"
   ]
  },
  {
   "cell_type": "code",
   "execution_count": null,
   "metadata": {
    "hidden": true
   },
   "outputs": [],
   "source": [
    "python_list = [1,2,3]\n",
    "numpy_arr =np.array(python_list)\n",
    "print(numpy_arr)\n",
    "# Transforms a python list into an array"
   ]
  },
  {
   "cell_type": "markdown",
   "metadata": {
    "hidden": true
   },
   "source": [
    "#### np.arange():"
   ]
  },
  {
   "cell_type": "code",
   "execution_count": 50,
   "metadata": {
    "hidden": true
   },
   "outputs": [
    {
     "name": "stdout",
     "output_type": "stream",
     "text": [
      "[0 2 4 6 8]\n"
     ]
    }
   ],
   "source": [
    "arange_array = np.arange(0, 10, 2, dtype = 'int')\n",
    "print(arange_array)\n",
    "# Creates 1D array from start to stop, you can specify the step"
   ]
  },
  {
   "cell_type": "markdown",
   "metadata": {
    "hidden": true
   },
   "source": [
    "#### np.zeros():"
   ]
  },
  {
   "cell_type": "code",
   "execution_count": null,
   "metadata": {
    "hidden": true,
    "scrolled": true
   },
   "outputs": [],
   "source": [
    "zero_array = np.zeros((3,5))\n",
    "print(zero_array)\n",
    "# Creates n-D array filled with 0's"
   ]
  },
  {
   "cell_type": "markdown",
   "metadata": {
    "hidden": true
   },
   "source": [
    "#### np.ones():"
   ]
  },
  {
   "cell_type": "code",
   "execution_count": null,
   "metadata": {
    "hidden": true
   },
   "outputs": [],
   "source": [
    "ones_array = np.ones((3,5))\n",
    "print(ones_array)\n",
    "# Creates n-D array filled with 1's"
   ]
  },
  {
   "cell_type": "markdown",
   "metadata": {
    "hidden": true
   },
   "source": [
    "#### np.empty():"
   ]
  },
  {
   "cell_type": "code",
   "execution_count": 53,
   "metadata": {
    "hidden": true
   },
   "outputs": [
    {
     "name": "stdout",
     "output_type": "stream",
     "text": [
      "[[ 1.31318365e-311  9.58487353e-322  0.00000000e+000  0.00000000e+000\n",
      "   0.00000000e+000]\n",
      " [ 5.02034658e+175  3.56529231e-057  3.56591469e-057  2.48489075e+184\n",
      "   7.69125215e+169]\n",
      " [ 1.47763641e+248  1.16096346e-028  7.69165785e+218 -5.13320425e-311\n",
      "   6.50450970e-038]]\n"
     ]
    }
   ],
   "source": [
    "empty_array = np.empty((3,5))\n",
    "print(empty_array)\n",
    "# Creates n-D array uninitialized"
   ]
  },
  {
   "cell_type": "markdown",
   "metadata": {
    "hidden": true
   },
   "source": [
    "#### np.full():"
   ]
  },
  {
   "cell_type": "code",
   "execution_count": 54,
   "metadata": {
    "hidden": true,
    "scrolled": true
   },
   "outputs": [
    {
     "name": "stdout",
     "output_type": "stream",
     "text": [
      "[[5 5 5 5 5]\n",
      " [5 5 5 5 5]\n",
      " [5 5 5 5 5]]\n"
     ]
    }
   ],
   "source": [
    "full_array = np.full((3,5), 5)\n",
    "print(full_array)\n",
    "# Creates n-D array filled with the given value"
   ]
  },
  {
   "cell_type": "markdown",
   "metadata": {
    "hidden": true
   },
   "source": [
    "#### np.eye():"
   ]
  },
  {
   "cell_type": "code",
   "execution_count": 58,
   "metadata": {
    "hidden": true,
    "scrolled": true
   },
   "outputs": [
    {
     "name": "stdout",
     "output_type": "stream",
     "text": [
      "[[1. 0. 0. 0. 0. 0. 0.]\n",
      " [0. 1. 0. 0. 0. 0. 0.]\n",
      " [0. 0. 1. 0. 0. 0. 0.]\n",
      " [0. 0. 0. 1. 0. 0. 0.]\n",
      " [0. 0. 0. 0. 1. 0. 0.]\n",
      " [0. 0. 0. 0. 0. 1. 0.]\n",
      " [0. 0. 0. 0. 0. 0. 1.]]\n"
     ]
    }
   ],
   "source": [
    "eye_array = np.eye(7)\n",
    "print(eye_array)\n",
    "# Return a 2-D array with ones on the diagonal and zeros elsewhere."
   ]
  },
  {
   "cell_type": "markdown",
   "metadata": {
    "hidden": true
   },
   "source": [
    "#### np.linspace():"
   ]
  },
  {
   "cell_type": "code",
   "execution_count": 62,
   "metadata": {
    "hidden": true,
    "scrolled": true
   },
   "outputs": [
    {
     "name": "stdout",
     "output_type": "stream",
     "text": [
      "[-4.         -3.99919992 -3.99839984 ...  3.99839984  3.99919992\n",
      "  4.        ]\n"
     ]
    }
   ],
   "source": [
    "linspace_array = np.linspace(-4,4, num = 10000)\n",
    "print(linspace_array)\n",
    "# Creates 1-D array from start to stop with num items between them"
   ]
  },
  {
   "cell_type": "markdown",
   "metadata": {
    "hidden": true
   },
   "source": [
    "#### np.random.random():"
   ]
  },
  {
   "cell_type": "code",
   "execution_count": 66,
   "metadata": {
    "hidden": true,
    "scrolled": true
   },
   "outputs": [
    {
     "data": {
      "text/plain": [
       "array([[[[0.19275932, 0.71700228, 0.28680082, 0.39893346],\n",
       "         [0.87869912, 0.99596759, 0.61700541, 0.53922615],\n",
       "         [0.74767157, 0.43596212, 0.81044089, 0.49486707],\n",
       "         [0.81537202, 0.99980085, 0.39586845, 0.8975325 ]],\n",
       "\n",
       "        [[0.72923826, 0.70381765, 0.13304393, 0.34859767],\n",
       "         [0.62549673, 0.00296914, 0.46684912, 0.84353562],\n",
       "         [0.83183671, 0.18470224, 0.25079893, 0.47616024],\n",
       "         [0.0308195 , 0.84669943, 0.57516926, 0.54445551]],\n",
       "\n",
       "        [[0.9708398 , 0.32394543, 0.55198384, 0.12921931],\n",
       "         [0.49515464, 0.42663272, 0.04194485, 0.14254305],\n",
       "         [0.57919584, 0.98527831, 0.08108563, 0.29633299],\n",
       "         [0.15602124, 0.22599107, 0.75604291, 0.11941478]],\n",
       "\n",
       "        [[0.48197444, 0.99889715, 0.50981305, 0.81690414],\n",
       "         [0.01033255, 0.94179112, 0.05913236, 0.07643106],\n",
       "         [0.23140813, 0.42839061, 0.96724318, 0.51767425],\n",
       "         [0.00290603, 0.0852998 , 0.1382747 , 0.06113009]],\n",
       "\n",
       "        [[0.64988815, 0.35492019, 0.50155486, 0.57133275],\n",
       "         [0.57276152, 0.83801263, 0.82150311, 0.36501817],\n",
       "         [0.23319986, 0.88537552, 0.045664  , 0.97434902],\n",
       "         [0.20563108, 0.38072492, 0.37620579, 0.07155602]]],\n",
       "\n",
       "\n",
       "       [[[0.55945849, 0.8222483 , 0.93244219, 0.50147965],\n",
       "         [0.39961614, 0.3760325 , 0.22083854, 0.40506953],\n",
       "         [0.58886694, 0.23295927, 0.95323351, 0.72926655],\n",
       "         [0.51682036, 0.27258119, 0.03848464, 0.46040114]],\n",
       "\n",
       "        [[0.93802276, 0.39888468, 0.39381853, 0.65037431],\n",
       "         [0.43903709, 0.57209352, 0.95403247, 0.61724341],\n",
       "         [0.7332873 , 0.94636078, 0.02601405, 0.80855416],\n",
       "         [0.69012622, 0.68237113, 0.08266831, 0.86104631]],\n",
       "\n",
       "        [[0.17309697, 0.27752575, 0.47609449, 0.67967958],\n",
       "         [0.15214942, 0.68565365, 0.06109443, 0.2177579 ],\n",
       "         [0.89418821, 0.20551306, 0.40046778, 0.77511171],\n",
       "         [0.74273824, 0.36092072, 0.43226169, 0.29709609]],\n",
       "\n",
       "        [[0.49835907, 0.16126928, 0.63915049, 0.64228047],\n",
       "         [0.73016169, 0.60528295, 0.46782258, 0.57418045],\n",
       "         [0.72365468, 0.48075949, 0.70757282, 0.84035541],\n",
       "         [0.9117932 , 0.78721433, 0.39755356, 0.76672595]],\n",
       "\n",
       "        [[0.23050104, 0.338259  , 0.28472364, 0.3856564 ],\n",
       "         [0.48139645, 0.68408367, 0.38700497, 0.22923882],\n",
       "         [0.72237797, 0.88897855, 0.62385991, 0.7222982 ],\n",
       "         [0.01949502, 0.14590371, 0.3044795 , 0.35935386]]],\n",
       "\n",
       "\n",
       "       [[[0.12604602, 0.57111364, 0.64329727, 0.64047072],\n",
       "         [0.40970803, 0.0904652 , 0.99251402, 0.11542888],\n",
       "         [0.20080243, 0.2228488 , 0.51259486, 0.2914921 ],\n",
       "         [0.48798373, 0.38730224, 0.92263052, 0.65084354]],\n",
       "\n",
       "        [[0.83901832, 0.69611448, 0.99648385, 0.10394828],\n",
       "         [0.2815116 , 0.88078691, 0.40625863, 0.00978902],\n",
       "         [0.84052517, 0.53039378, 0.04130177, 0.49586265],\n",
       "         [0.10380578, 0.47156005, 0.80256745, 0.72227595]],\n",
       "\n",
       "        [[0.58174613, 0.38410018, 0.49225229, 0.82904621],\n",
       "         [0.31589617, 0.03817183, 0.21780374, 0.17803959],\n",
       "         [0.22216695, 0.48278085, 0.21941324, 0.32484691],\n",
       "         [0.60281031, 0.01645528, 0.72597612, 0.26325599]],\n",
       "\n",
       "        [[0.79941743, 0.11862721, 0.8640063 , 0.69943179],\n",
       "         [0.72200511, 0.3464396 , 0.37119111, 0.70159533],\n",
       "         [0.48627837, 0.56207924, 0.1232284 , 0.50427211],\n",
       "         [0.30839589, 0.36469714, 0.42363738, 0.49571166]],\n",
       "\n",
       "        [[0.3595523 , 0.16832492, 0.13841345, 0.38307902],\n",
       "         [0.32632756, 0.08119126, 0.40510636, 0.57611615],\n",
       "         [0.20126523, 0.85282033, 0.99837708, 0.02150501],\n",
       "         [0.0225405 , 0.98209429, 0.6125811 , 0.72941071]]]])"
      ]
     },
     "execution_count": 66,
     "metadata": {},
     "output_type": "execute_result"
    }
   ],
   "source": [
    "np.random.random((3,5,4,4,2))[:,:,:,:,-1]\n",
    "# Creates n-D random array"
   ]
  },
  {
   "cell_type": "markdown",
   "metadata": {
    "hidden": true
   },
   "source": [
    "#### np.indices():"
   ]
  },
  {
   "cell_type": "code",
   "execution_count": 67,
   "metadata": {
    "hidden": true,
    "scrolled": true
   },
   "outputs": [
    {
     "name": "stdout",
     "output_type": "stream",
     "text": [
      "[[[0 0 0 0 0]\n",
      "  [1 1 1 1 1]\n",
      "  [2 2 2 2 2]]\n",
      "\n",
      " [[0 1 2 3 4]\n",
      "  [0 1 2 3 4]\n",
      "  [0 1 2 3 4]]]\n"
     ]
    }
   ],
   "source": [
    "indices_array = np.indices((3,5))\n",
    "print(indices_array)\n",
    "# Will create a set of arrays per dimension representing its variation"
   ]
  },
  {
   "cell_type": "markdown",
   "metadata": {
    "heading_collapsed": true,
    "hidden": true
   },
   "source": [
    "### Array transformation:"
   ]
  },
  {
   "cell_type": "markdown",
   "metadata": {
    "hidden": true
   },
   "source": [
    "Some of the functions explained before can be used to perform changes in existing lists, specifically **empty**, **zeros** and **ones**, we just need to add **_like**:"
   ]
  },
  {
   "cell_type": "code",
   "execution_count": null,
   "metadata": {
    "hidden": true
   },
   "outputs": [],
   "source": [
    "list_to_array = [[1,2,3], [4,5,6]]\n",
    "function_names = ['empty', 'zeros', 'ones']\n",
    "for name in function_names:\n",
    "    function = getattr(np, name + '_like')\n",
    "    print(f'\\nnp.{name}_like(list):\\n')\n",
    "    print(function(list_to_array))"
   ]
  },
  {
   "cell_type": "markdown",
   "metadata": {
    "hidden": true
   },
   "source": [
    "**full** is available too giving the second argument:"
   ]
  },
  {
   "cell_type": "code",
   "execution_count": null,
   "metadata": {
    "hidden": true
   },
   "outputs": [],
   "source": [
    "np.full_like(list_to_array, 5)"
   ]
  },
  {
   "cell_type": "markdown",
   "metadata": {
    "hidden": true
   },
   "source": [
    "### Mathematical functions"
   ]
  },
  {
   "cell_type": "markdown",
   "metadata": {
    "hidden": true
   },
   "source": [
    "In this part functions won't have a definition if it's clear what they are or what they do.\n",
    "\n",
    "Let's define an array to use the functions:"
   ]
  },
  {
   "cell_type": "code",
   "execution_count": 40,
   "metadata": {
    "hidden": true
   },
   "outputs": [],
   "source": [
    "func_arr = np.arange(0,9).reshape(3,3)"
   ]
  },
  {
   "cell_type": "markdown",
   "metadata": {
    "heading_collapsed": true,
    "hidden": true
   },
   "source": [
    "#### Trigonometric functions"
   ]
  },
  {
   "cell_type": "markdown",
   "metadata": {
    "hidden": true
   },
   "source": [
    "##### np.sin(arr)"
   ]
  },
  {
   "cell_type": "code",
   "execution_count": null,
   "metadata": {
    "hidden": true
   },
   "outputs": [],
   "source": [
    "np.sin(func_arr)"
   ]
  },
  {
   "cell_type": "markdown",
   "metadata": {
    "hidden": true
   },
   "source": [
    "##### np.cos(arr)"
   ]
  },
  {
   "cell_type": "code",
   "execution_count": null,
   "metadata": {
    "hidden": true
   },
   "outputs": [],
   "source": [
    "np.cos(func_arr)"
   ]
  },
  {
   "cell_type": "markdown",
   "metadata": {
    "hidden": true
   },
   "source": [
    "##### np.tan(arr)"
   ]
  },
  {
   "cell_type": "code",
   "execution_count": null,
   "metadata": {
    "hidden": true
   },
   "outputs": [],
   "source": [
    "np.tan(func_arr)"
   ]
  },
  {
   "cell_type": "markdown",
   "metadata": {
    "hidden": true
   },
   "source": [
    "##### np.arcsin(arr)"
   ]
  },
  {
   "cell_type": "code",
   "execution_count": null,
   "metadata": {
    "hidden": true
   },
   "outputs": [],
   "source": [
    "np.arcsin(func_arr)\n",
    "# Sin go between -1 and 1, so it doesnt make any sense try arcsin with these numbers"
   ]
  },
  {
   "cell_type": "markdown",
   "metadata": {
    "hidden": true
   },
   "source": [
    "##### np.arccos(arr)"
   ]
  },
  {
   "cell_type": "code",
   "execution_count": null,
   "metadata": {
    "hidden": true
   },
   "outputs": [],
   "source": [
    "np.sin(func_arr)"
   ]
  },
  {
   "cell_type": "markdown",
   "metadata": {
    "hidden": true
   },
   "source": [
    "##### np.arctan(arr)"
   ]
  },
  {
   "cell_type": "code",
   "execution_count": null,
   "metadata": {
    "hidden": true
   },
   "outputs": [],
   "source": [
    "np.sin(func_arr)"
   ]
  },
  {
   "cell_type": "markdown",
   "metadata": {
    "heading_collapsed": true,
    "hidden": true
   },
   "source": [
    "#### Rounding"
   ]
  },
  {
   "cell_type": "markdown",
   "metadata": {
    "hidden": true
   },
   "source": [
    "##### np.around(arr)"
   ]
  },
  {
   "cell_type": "code",
   "execution_count": null,
   "metadata": {
    "hidden": true
   },
   "outputs": [],
   "source": [
    "np.around(func_arr)"
   ]
  },
  {
   "cell_type": "markdown",
   "metadata": {
    "hidden": true
   },
   "source": [
    "##### np.floor(arr)"
   ]
  },
  {
   "cell_type": "code",
   "execution_count": null,
   "metadata": {
    "hidden": true
   },
   "outputs": [],
   "source": [
    "np.around(func_arr)"
   ]
  },
  {
   "cell_type": "markdown",
   "metadata": {
    "hidden": true
   },
   "source": [
    "##### np.ceil(arr)"
   ]
  },
  {
   "cell_type": "code",
   "execution_count": null,
   "metadata": {
    "hidden": true
   },
   "outputs": [],
   "source": [
    "np.around(func_arr)"
   ]
  },
  {
   "cell_type": "markdown",
   "metadata": {
    "hidden": true
   },
   "source": [
    "##### np.trunc(arr)"
   ]
  },
  {
   "cell_type": "code",
   "execution_count": null,
   "metadata": {
    "hidden": true
   },
   "outputs": [],
   "source": [
    "np.trunc(func_arr)"
   ]
  },
  {
   "cell_type": "markdown",
   "metadata": {
    "heading_collapsed": true,
    "hidden": true
   },
   "source": [
    "#### Sums, products, differences"
   ]
  },
  {
   "cell_type": "markdown",
   "metadata": {
    "hidden": true
   },
   "source": [
    "##### np.prod(arr)"
   ]
  },
  {
   "cell_type": "code",
   "execution_count": 41,
   "metadata": {
    "hidden": true
   },
   "outputs": [
    {
     "data": {
      "text/plain": [
       "0"
      ]
     },
     "execution_count": 41,
     "metadata": {},
     "output_type": "execute_result"
    }
   ],
   "source": [
    "np.prod(func_arr)"
   ]
  },
  {
   "cell_type": "markdown",
   "metadata": {
    "hidden": true
   },
   "source": [
    "##### np.sum(arr)"
   ]
  },
  {
   "cell_type": "code",
   "execution_count": 42,
   "metadata": {
    "hidden": true
   },
   "outputs": [
    {
     "data": {
      "text/plain": [
       "36"
      ]
     },
     "execution_count": 42,
     "metadata": {},
     "output_type": "execute_result"
    }
   ],
   "source": [
    "np.sum(func_arr)"
   ]
  },
  {
   "cell_type": "markdown",
   "metadata": {
    "hidden": true
   },
   "source": [
    "##### np.cumprod(arr)"
   ]
  },
  {
   "cell_type": "code",
   "execution_count": null,
   "metadata": {
    "hidden": true
   },
   "outputs": [],
   "source": [
    "np.cumprod(func_arr)"
   ]
  },
  {
   "cell_type": "markdown",
   "metadata": {
    "hidden": true
   },
   "source": [
    "##### np.cumsum(arr)"
   ]
  },
  {
   "cell_type": "code",
   "execution_count": null,
   "metadata": {
    "hidden": true
   },
   "outputs": [],
   "source": [
    "np.cumsum(func_arr)"
   ]
  },
  {
   "cell_type": "markdown",
   "metadata": {
    "hidden": true
   },
   "source": [
    "##### np.gradient(arr)"
   ]
  },
  {
   "cell_type": "code",
   "execution_count": null,
   "metadata": {
    "hidden": true
   },
   "outputs": [],
   "source": [
    "np.gradient(func_arr)"
   ]
  },
  {
   "cell_type": "markdown",
   "metadata": {
    "hidden": true
   },
   "source": [
    "##### np.cross(arr1, arr2) "
   ]
  },
  {
   "cell_type": "code",
   "execution_count": null,
   "metadata": {
    "hidden": true
   },
   "outputs": [],
   "source": [
    "np.cross(func_arr, func_arr)"
   ]
  },
  {
   "cell_type": "markdown",
   "metadata": {
    "hidden": true
   },
   "source": [
    "##### NaN operations:"
   ]
  },
  {
   "cell_type": "markdown",
   "metadata": {
    "hidden": true
   },
   "source": [
    "We can also apply the sum and product operations to arrays with NaN values treating them as 1's or 0's:"
   ]
  },
  {
   "cell_type": "code",
   "execution_count": null,
   "metadata": {
    "hidden": true
   },
   "outputs": [],
   "source": [
    "#sum\n",
    "print(np.nansum(func_arr))\n",
    "#prod\n",
    "print(np.nanprod(func_arr))\n",
    "#cumsum\n",
    "print(np.nancumsum(func_arr))\n",
    "#cumprod\n",
    "print(np.nancumprod(func_arr))"
   ]
  },
  {
   "cell_type": "markdown",
   "metadata": {
    "heading_collapsed": true,
    "hidden": true
   },
   "source": [
    "#### Arithmetic operations"
   ]
  },
  {
   "cell_type": "markdown",
   "metadata": {
    "hidden": true
   },
   "source": [
    "All of the functions here take two lists as mandatory arguments, element-wise: "
   ]
  },
  {
   "cell_type": "markdown",
   "metadata": {
    "hidden": true
   },
   "source": [
    "##### np.add(arr1, arr2)"
   ]
  },
  {
   "cell_type": "code",
   "execution_count": null,
   "metadata": {
    "hidden": true
   },
   "outputs": [],
   "source": [
    "np.add(func_arr, func_arr)"
   ]
  },
  {
   "cell_type": "markdown",
   "metadata": {
    "hidden": true
   },
   "source": [
    "##### np.multiply(arr1, arr2)"
   ]
  },
  {
   "cell_type": "code",
   "execution_count": null,
   "metadata": {
    "hidden": true
   },
   "outputs": [],
   "source": [
    "np.multiply(func_arr, func_arr)"
   ]
  },
  {
   "cell_type": "markdown",
   "metadata": {
    "hidden": true
   },
   "source": [
    "##### np.divide(arr1, arr2)"
   ]
  },
  {
   "cell_type": "code",
   "execution_count": null,
   "metadata": {
    "hidden": true
   },
   "outputs": [],
   "source": [
    "np.divide(func_arr, func_arr)"
   ]
  },
  {
   "cell_type": "markdown",
   "metadata": {
    "hidden": true
   },
   "source": [
    "##### np.power(arr1, arr2)"
   ]
  },
  {
   "cell_type": "code",
   "execution_count": null,
   "metadata": {
    "hidden": true
   },
   "outputs": [],
   "source": [
    "np.power(func_arr, func_arr)"
   ]
  },
  {
   "cell_type": "markdown",
   "metadata": {
    "hidden": true
   },
   "source": [
    "##### np.substract(arr1, arr2)"
   ]
  },
  {
   "cell_type": "code",
   "execution_count": 43,
   "metadata": {
    "hidden": true
   },
   "outputs": [
    {
     "data": {
      "text/plain": [
       "array([[0, 0, 0],\n",
       "       [0, 0, 0],\n",
       "       [0, 0, 0]])"
      ]
     },
     "execution_count": 43,
     "metadata": {},
     "output_type": "execute_result"
    }
   ],
   "source": [
    "np.subtract(func_arr, func_arr)"
   ]
  },
  {
   "cell_type": "markdown",
   "metadata": {
    "heading_collapsed": true,
    "hidden": true
   },
   "source": [
    "##### np.remainder(arr1, arr2)"
   ]
  },
  {
   "cell_type": "code",
   "execution_count": 44,
   "metadata": {
    "hidden": true
   },
   "outputs": [
    {
     "name": "stderr",
     "output_type": "stream",
     "text": [
      "C:\\Users\\Javier\\Anaconda3\\lib\\site-packages\\ipykernel_launcher.py:1: RuntimeWarning: divide by zero encountered in remainder\n",
      "  \"\"\"Entry point for launching an IPython kernel.\n"
     ]
    },
    {
     "data": {
      "text/plain": [
       "array([[0, 0, 0],\n",
       "       [0, 0, 0],\n",
       "       [0, 0, 0]], dtype=int32)"
      ]
     },
     "execution_count": 44,
     "metadata": {},
     "output_type": "execute_result"
    }
   ],
   "source": [
    "np.remainder(func_arr, func_arr)"
   ]
  },
  {
   "cell_type": "markdown",
   "metadata": {
    "heading_collapsed": true,
    "hidden": true
   },
   "source": [
    "#### Important math functions"
   ]
  },
  {
   "cell_type": "markdown",
   "metadata": {
    "heading_collapsed": true,
    "hidden": true
   },
   "source": [
    "##### np.clip(arr, min, max)"
   ]
  },
  {
   "cell_type": "code",
   "execution_count": 45,
   "metadata": {
    "hidden": true
   },
   "outputs": [
    {
     "data": {
      "text/plain": [
       "array([[3, 3, 3],\n",
       "       [3, 4, 5],\n",
       "       [5, 5, 5]])"
      ]
     },
     "execution_count": 45,
     "metadata": {},
     "output_type": "execute_result"
    }
   ],
   "source": [
    "np.clip(func_arr, 3,5)"
   ]
  },
  {
   "cell_type": "markdown",
   "metadata": {
    "hidden": true
   },
   "source": [
    "##### np.sqrt(arr)"
   ]
  },
  {
   "cell_type": "code",
   "execution_count": null,
   "metadata": {
    "hidden": true
   },
   "outputs": [],
   "source": [
    "np.sqrt(func_arr)"
   ]
  },
  {
   "cell_type": "markdown",
   "metadata": {
    "hidden": true
   },
   "source": [
    "##### np.cbrt(arr)"
   ]
  },
  {
   "cell_type": "code",
   "execution_count": null,
   "metadata": {
    "hidden": true
   },
   "outputs": [],
   "source": [
    "np.cbrt(func_arr)"
   ]
  },
  {
   "cell_type": "markdown",
   "metadata": {
    "hidden": true
   },
   "source": [
    "##### np.absolute(arr)"
   ]
  },
  {
   "cell_type": "code",
   "execution_count": null,
   "metadata": {
    "hidden": true
   },
   "outputs": [],
   "source": [
    "np.absolute(func_arr)"
   ]
  },
  {
   "cell_type": "markdown",
   "metadata": {
    "hidden": true
   },
   "source": [
    "##### np.sign(arr)"
   ]
  },
  {
   "cell_type": "code",
   "execution_count": 46,
   "metadata": {
    "hidden": true
   },
   "outputs": [
    {
     "data": {
      "text/plain": [
       "array([[0, 1, 1],\n",
       "       [1, 1, 1],\n",
       "       [1, 1, 1]])"
      ]
     },
     "execution_count": 46,
     "metadata": {},
     "output_type": "execute_result"
    }
   ],
   "source": [
    "np.sign(func_arr)"
   ]
  },
  {
   "cell_type": "markdown",
   "metadata": {
    "hidden": true
   },
   "source": [
    "##### np.maximum(arr1, arr2)"
   ]
  },
  {
   "cell_type": "code",
   "execution_count": 47,
   "metadata": {
    "hidden": true
   },
   "outputs": [
    {
     "data": {
      "text/plain": [
       "array([[0, 1, 2],\n",
       "       [3, 4, 5],\n",
       "       [6, 7, 8]])"
      ]
     },
     "execution_count": 47,
     "metadata": {},
     "output_type": "execute_result"
    }
   ],
   "source": [
    "np.maximum(func_arr, func_arr)"
   ]
  },
  {
   "cell_type": "markdown",
   "metadata": {
    "hidden": true
   },
   "source": [
    "##### np.minimum(arr1, arr2)"
   ]
  },
  {
   "cell_type": "code",
   "execution_count": null,
   "metadata": {
    "hidden": true
   },
   "outputs": [],
   "source": [
    "np.maximum(func_arr, func_arr)"
   ]
  },
  {
   "cell_type": "markdown",
   "metadata": {
    "hidden": true
   },
   "source": [
    "##### np.nan_to_num(arr)"
   ]
  },
  {
   "cell_type": "code",
   "execution_count": 48,
   "metadata": {
    "hidden": true
   },
   "outputs": [
    {
     "data": {
      "text/plain": [
       "array([[0, 1, 2],\n",
       "       [3, 4, 5],\n",
       "       [6, 7, 8]])"
      ]
     },
     "execution_count": 48,
     "metadata": {},
     "output_type": "execute_result"
    }
   ],
   "source": [
    "np.nan_to_num(func_arr)"
   ]
  },
  {
   "cell_type": "markdown",
   "metadata": {},
   "source": [
    "## Miscellaneous"
   ]
  },
  {
   "cell_type": "markdown",
   "metadata": {
    "heading_collapsed": true
   },
   "source": [
    "### Constants"
   ]
  },
  {
   "cell_type": "markdown",
   "metadata": {
    "hidden": true
   },
   "source": [
    "$\\pi$"
   ]
  },
  {
   "cell_type": "code",
   "execution_count": null,
   "metadata": {
    "hidden": true
   },
   "outputs": [],
   "source": [
    "np.pi"
   ]
  },
  {
   "cell_type": "markdown",
   "metadata": {
    "hidden": true
   },
   "source": [
    "$e$"
   ]
  },
  {
   "cell_type": "code",
   "execution_count": null,
   "metadata": {
    "hidden": true
   },
   "outputs": [],
   "source": [
    "np.e"
   ]
  },
  {
   "cell_type": "markdown",
   "metadata": {
    "hidden": true
   },
   "source": [
    "$\\infty$"
   ]
  },
  {
   "cell_type": "code",
   "execution_count": null,
   "metadata": {
    "hidden": true
   },
   "outputs": [],
   "source": [
    "np.inf"
   ]
  },
  {
   "cell_type": "markdown",
   "metadata": {
    "hidden": true
   },
   "source": [
    "$NaN$"
   ]
  },
  {
   "cell_type": "code",
   "execution_count": null,
   "metadata": {
    "hidden": true
   },
   "outputs": [],
   "source": [
    "np.nan"
   ]
  },
  {
   "cell_type": "markdown",
   "metadata": {
    "hidden": true
   },
   "source": [
    "$None$"
   ]
  },
  {
   "cell_type": "code",
   "execution_count": null,
   "metadata": {
    "hidden": true
   },
   "outputs": [],
   "source": [
    "np.newaxis"
   ]
  }
 ],
 "metadata": {
  "kernelspec": {
   "display_name": "Python 3",
   "language": "python",
   "name": "python3"
  },
  "language_info": {
   "codemirror_mode": {
    "name": "ipython",
    "version": 3
   },
   "file_extension": ".py",
   "mimetype": "text/x-python",
   "name": "python",
   "nbconvert_exporter": "python",
   "pygments_lexer": "ipython3",
   "version": "3.7.4"
  }
 },
 "nbformat": 4,
 "nbformat_minor": 2
}
